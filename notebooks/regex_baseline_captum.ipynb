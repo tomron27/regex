{
 "cells": [
  {
   "cell_type": "code",
   "execution_count": 1,
   "id": "43895f82",
   "metadata": {},
   "outputs": [
    {
     "data": {
      "text/html": [
       "<style>.container { width:95% !important; }</style>"
      ],
      "text/plain": [
       "<IPython.core.display.HTML object>"
      ]
     },
     "metadata": {},
     "output_type": "display_data"
    },
    {
     "data": {
      "text/html": [
       "<style>.output_result { max-width:90% !important; }</style>"
      ],
      "text/plain": [
       "<IPython.core.display.HTML object>"
      ]
     },
     "metadata": {},
     "output_type": "display_data"
    }
   ],
   "source": [
    "from IPython.core.display import display, HTML\n",
    "display(HTML(\"<style>.container { width:95% !important; }</style>\"))\n",
    "display(HTML(\"<style>.output_result { max-width:90% !important; }</style>\"))"
   ]
  },
  {
   "cell_type": "code",
   "execution_count": 2,
   "id": "99206e67",
   "metadata": {},
   "outputs": [],
   "source": [
    "import sys\n",
    "import os\n",
    "sys.path.append(os.path.dirname(os.getcwd()))\n",
    "import os\n",
    "import random\n",
    "import math\n",
    "import numpy as np\n",
    "import matplotlib.pyplot as plt\n",
    "import torch\n",
    "import torch.nn.functional as F\n",
    "import wandb\n",
    "from tqdm import tqdm\n",
    "from datetime import datetime\n",
    "import pickle\n",
    "\n",
    "import cv2\n",
    "from skimage.io import imsave\n",
    "from skimage.transform import resize\n",
    "from skimage.measure import block_reduce\n",
    "import skimage.segmentation as seg\n",
    "from sklearn.metrics import confusion_matrix, precision_score, recall_score, roc_auc_score, f1_score, accuracy_score, balanced_accuracy_score, average_precision_score\n",
    "\n",
    "from torch.utils.data import DataLoader\n",
    "from torchvision.transforms import Compose, Resize\n",
    "from torchvision.transforms import InterpolationMode\n",
    "# from kornia.geometry.transform import Resize\n",
    "from kornia.augmentation import Normalize\n",
    "\n",
    "from config import TrainConfig, GPU_ID\n",
    "from dataio.dataloader import probe_data_folder, BraTS18Binary\n",
    "from models.resnet import get_resnet50_attn_classifier\n",
    "from models.unet import get_unet_encoder_classifier\n",
    "\n",
    "figsize = (24, 24)\n",
    "\n",
    "os.environ[\"CUDA_VISIBLE_DEVICES\"] = GPU_ID"
   ]
  },
  {
   "cell_type": "code",
   "execution_count": 3,
   "id": "a28dda23",
   "metadata": {},
   "outputs": [],
   "source": [
    "# Model directory and configuration\n",
    "\n",
    "base_dir = \"/hdd0/projects/regex/logs/unet_encoder_baseline/20210513_00:20:22/\"\n",
    "model_file = \"unet_encoder_baseline__best__epoch=265_score=0.9738.pt\"\n",
    "config_file = \"params.p\"\n",
    "\n",
    "config_handler = open(os.path.join(base_dir, config_file), 'rb')\n",
    "params = pickle.load(config_handler)\n",
    "params[\"weights\"] = model_path = os.path.join(base_dir, model_file)\n",
    "\n",
    "transforms = Compose([\n",
    "                Normalize(mean=torch.tensor([149.56119, 165.83559, 166.13501, 112.61901]),\n",
    "                          std=torch.tensor([636.8766, 653.8386, 759.8256, 718.83594])),\n",
    "                Resize((256, 256), interpolation=InterpolationMode.NEAREST)])\n",
    "\n",
    "mask_transforms = Resize((256, 256), interpolation=InterpolationMode.NEAREST)"
   ]
  },
  {
   "cell_type": "code",
   "execution_count": 4,
   "id": "e1439375",
   "metadata": {},
   "outputs": [
    {
     "name": "stdout",
     "output_type": "stream",
     "text": [
      "  Total of 208 train patients, 52 test patients\n",
      "  Total of 16878 train slices, 4778 test slices\n"
     ]
    }
   ],
   "source": [
    "# Load dataset\n",
    "train_metadata, val_metadata, _ = probe_data_folder(params[\"data_path\"],\n",
    "                                                 train_frac=params[\"train_frac\"],\n",
    "                                                 bad_files=params[\"bad_files\"],\n",
    "                                                 subsample_frac=params[\"subsample_frac\"])\n",
    "\n",
    "# Datasets\n",
    "# train_dataset = BraTS18Binary(params[\"data_path\"],\n",
    "#                         train_metadata,\n",
    "#                         transforms=transforms,\n",
    "#                         shuffle=True,\n",
    "#                         get_mask=True,\n",
    "#                         random_state=params[\"seed\"],\n",
    "#                         prefetch_data=params[\"prefetch_data\"])\n",
    "val_dataset = BraTS18Binary(params[\"data_path\"],\n",
    "                      val_metadata,\n",
    "                      transforms=transforms,\n",
    "                      mask_transforms=mask_transforms,\n",
    "                      prefetch_data=params[\"prefetch_data\"],\n",
    "                      get_mask=True,\n",
    "                      shuffle=True,\n",
    "                      random_state=41)\n",
    "\n",
    "# Dataloaders\n",
    "# train_loader = DataLoader(dataset=train_dataset,\n",
    "#                           num_workers=1,\n",
    "#                           pin_memory=True,\n",
    "#                           batch_size=1,\n",
    "#                           shuffle=False)\n",
    "val_loader = DataLoader(dataset=val_dataset,\n",
    "                        num_workers=1,\n",
    "                        pin_memory=True,\n",
    "                        batch_size=1,\n",
    "                        shuffle=False)"
   ]
  },
  {
   "cell_type": "code",
   "execution_count": 5,
   "id": "897deb54",
   "metadata": {},
   "outputs": [
    {
     "name": "stdout",
     "output_type": "stream",
     "text": [
      "Loading pretrained model from: '/hdd0/projects/regex/logs/unet_encoder_baseline/20210513_00:20:22/unet_encoder_baseline__best__epoch=265_score=0.9738.pt'\n",
      "Total parameters: 4715522\n",
      "Total trainable parameters: 4715522\n"
     ]
    }
   ],
   "source": [
    "# Cuda\n",
    "device = torch.device(\"cuda\" if torch.cuda.is_available() else \"cpu\")\n",
    "# params[\"use_gpu\"] = False\n",
    "# device = \"cpu\"\n",
    "model = get_unet_encoder_classifier(**params)\n",
    "\n",
    "model = model.to(device)"
   ]
  },
  {
   "cell_type": "code",
   "execution_count": 23,
   "id": "48b91708",
   "metadata": {},
   "outputs": [
    {
     "name": "stderr",
     "output_type": "stream",
     "text": [
      "  2%|▏         | 101/4778 [00:01<01:09, 67.17it/s]\n"
     ]
    }
   ],
   "source": [
    "y_true = []\n",
    "y_pred = []\n",
    "y_prob = []\n",
    "images = []\n",
    "masks = []\n",
    "attrs = []\n",
    "model.eval()\n",
    "\n",
    "from captum.attr import LayerGradCam\n",
    "ks = LayerGradCam(model, layer=model.bottleneck)\n",
    "\n",
    "\n",
    "for j, sample in tqdm(enumerate(val_loader), total=len(val_loader)):\n",
    "    # Image + Prediction\n",
    "    if j > 100:\n",
    "        break\n",
    "    mri, (targets, masks_t) = sample\n",
    "    mri_image = mri.detach().cpu().squeeze(0).squeeze(0).numpy()\n",
    "    targ = targets.detach().cpu().item()\n",
    "    mask = masks_t.detach().cpu()\n",
    "    mask = mask_transforms(mask.unsqueeze(0)).squeeze(0)\n",
    "    masks.append(mask.numpy())\n",
    "    y_true.append(targ)\n",
    "    \n",
    "    \n",
    "    mri, targets = mri.to(device), targets.to(device)\n",
    "    attr = ks.attribute(mri, target=targets)\n",
    "    attrs.append(attr.detach().cpu())\n",
    "    \n",
    "    outputs = model(mri)\n",
    "    probs = torch.softmax(outputs, dim=1).cpu().detach()[0]\n",
    "    y_prob.append(probs.numpy())\n",
    "    y_pred.append(torch.argmax(probs).item())\n",
    "    img_fname = f\"image_{j:04d}_pred={str(probs.numpy().round(2))}_label={targ}.npy\"\n",
    "    images.append((img_fname, mri_image, mask))"
   ]
  },
  {
   "cell_type": "code",
   "execution_count": 24,
   "id": "6c732384",
   "metadata": {},
   "outputs": [
    {
     "name": "stdout",
     "output_type": "stream",
     "text": [
      "0.9801805337519622\n",
      "[[51  1]\n",
      " [ 1 48]]\n",
      "[[0.98076923 0.01923077]\n",
      " [0.02040816 0.97959184]]\n"
     ]
    }
   ],
   "source": [
    "print(balanced_accuracy_score(y_true, y_pred))\n",
    "print(confusion_matrix(y_true, y_pred))\n",
    "print(confusion_matrix(y_true, y_pred, normalize=\"true\"))"
   ]
  },
  {
   "cell_type": "code",
   "execution_count": 25,
   "id": "c9ce26c4",
   "metadata": {
    "scrolled": false
   },
   "outputs": [
    {
     "data": {
      "text/plain": [
       "<matplotlib.image.AxesImage at 0x7f072d275970>"
      ]
     },
     "execution_count": 25,
     "metadata": {},
     "output_type": "execute_result"
    },
    {
     "data": {
      "image/png": "[encoded data removed]",
      "text/plain": [
       "<Figure size 1440x1440 with 3 Axes>"
      ]
     },
     "metadata": {
      "needs_background": "light"
     },
     "output_type": "display_data"
    }
   ],
   "source": [
    "fig, ax = plt.subplots(1,3,figsize=(20, 20))\n",
    "idx = 6\n",
    "modality_idx = 2\n",
    "img_fname, img, mask = images[idx]\n",
    "img = img[modality_idx]\n",
    "mask = mask[0]\n",
    "heatmap = attrs[idx][0][0].numpy()\n",
    "ax[0].imshow(img, cmap=\"gray\")\n",
    "ax[1].imshow(img, cmap=\"gray\")\n",
    "ax[1].imshow(mask, cmap=\"Reds\", alpha=0.4)\n",
    "ax[2].imshow(heatmap)"
   ]
  },
  {
   "cell_type": "code",
   "execution_count": 27,
   "id": "6df342e1",
   "metadata": {},
   "outputs": [],
   "source": [
    "def get_ap(mask, heatmap, normalize_heatmap=True):\n",
    "    mask = mask[0]\n",
    "    if normalize_heatmap:\n",
    "        heatmap -= heatmap.min()\n",
    "        heatmap /= heatmap.max()\n",
    "    if heatmap.shape != mask.shape:\n",
    "        resize = Resize(mask.shape, interpolation=InterpolationMode.NEAREST)\n",
    "        heatmap = resize(torch.tensor(heatmap).unsqueeze(0)).squeeze(0) / ((heatmap.shape[0] / mask.shape[0]) **2)\n",
    "        heatmap = heatmap.numpy()\n",
    "    return average_precision_score(mask.ravel(), heatmap.ravel())"
   ]
  },
  {
   "cell_type": "code",
   "execution_count": 28,
   "id": "f8646250",
   "metadata": {},
   "outputs": [
    {
     "name": "stdout",
     "output_type": "stream",
     "text": [
      "0.561402063942886\n"
     ]
    }
   ],
   "source": [
    "ap_list = []\n",
    "for i, (y, mask) in enumerate(zip(y_true, masks)):\n",
    "    if y > 0:\n",
    "        ap_score = get_ap(mask, attrs[i][0,0].numpy())\n",
    "        ap_list.append(ap_score)\n",
    "map_score = sum(ap_list) / len(ap_list)\n",
    "print(map_score)"
   ]
  },
  {
   "cell_type": "code",
   "execution_count": null,
   "id": "0802ddc9",
   "metadata": {},
   "outputs": [],
   "source": []
  }
 ],
 "metadata": {
  "kernelspec": {
   "display_name": "Python 3",
   "language": "python",
   "name": "python3"
  },
  "language_info": {
   "codemirror_mode": {
    "name": "ipython",
    "version": 3
   },
   "file_extension": ".py",
   "mimetype": "text/x-python",
   "name": "python",
   "nbconvert_exporter": "python",
   "pygments_lexer": "ipython3",
   "version": "3.8.8"
  }
 },
 "nbformat": 4,
 "nbformat_minor": 5
}
