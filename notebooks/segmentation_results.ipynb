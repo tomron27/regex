{
 "cells": [
  {
   "cell_type": "code",
   "execution_count": 146,
   "id": "45fcff53",
   "metadata": {},
   "outputs": [
    {
     "data": {
      "text/html": [
       "<style>.container { width:95% !important; }</style>"
      ],
      "text/plain": [
       "<IPython.core.display.HTML object>"
      ]
     },
     "metadata": {},
     "output_type": "display_data"
    },
    {
     "data": {
      "text/html": [
       "<style>.output_result { max-width:90% !important; }</style>"
      ],
      "text/plain": [
       "<IPython.core.display.HTML object>"
      ]
     },
     "metadata": {},
     "output_type": "display_data"
    }
   ],
   "source": [
    "from IPython.core.display import display, HTML\n",
    "display(HTML(\"<style>.container { width:95% !important; }</style>\"))\n",
    "display(HTML(\"<style>.output_result { max-width:90% !important; }</style>\"))"
   ]
  },
  {
   "cell_type": "code",
   "execution_count": 151,
   "id": "f38393f1",
   "metadata": {},
   "outputs": [],
   "source": [
    "import sys\n",
    "import os\n",
    "sys.path.append(os.path.dirname(os.getcwd()))\n",
    "import matplotlib.pyplot as plt\n",
    "import matplotlib.gridspec as gridspec\n",
    "import numpy as np\n",
    "import pandas as pd\n",
    "import cv2\n",
    "import seaborn as sns\n",
    "import pickle\n",
    "import torch\n",
    "from sklearn.metrics import auc\n",
    "\n",
    "from matplotlib import rcParams\n",
    "rcParams.update({'font.size': 16})\n",
    "\n",
    "pd.options.display.float_format = '{:.2f}'.format\n",
    "\n",
    "# rc('font', **{'family': 'serif', 'serif': ['Computer Modern'], 'size': 18})\n",
    "# rc('text', usetex=True)\n",
    "\n",
    "np.random.seed(42)"
   ]
  },
  {
   "cell_type": "markdown",
   "id": "db2fae45",
   "metadata": {},
   "source": [
    "# Globals"
   ]
  },
  {
   "cell_type": "code",
   "execution_count": 3,
   "id": "44db531e",
   "metadata": {},
   "outputs": [],
   "source": [
    "# Load image and mask data\n",
    "with open(\"/hdd0/projects/regex/evals/images_and_masks.pkl\", 'rb') as f:\n",
    "    images_and_masks = pickle.load(f)\n",
    "methods = [\"IoU (q=0.1)\", \"IoU (q=0.05)\", \"IoU (q=0.025)\", \"mAP\"]   \n",
    "mri_modality = 2"
   ]
  },
  {
   "cell_type": "markdown",
   "id": "5126ae14",
   "metadata": {},
   "source": [
    "# Table"
   ]
  },
  {
   "cell_type": "code",
   "execution_count": 4,
   "id": "8be3319b",
   "metadata": {
    "scrolled": true
   },
   "outputs": [
    {
     "data": {
      "text/html": [
       "<div>\n",
       "<style scoped>\n",
       "    .dataframe tbody tr th:only-of-type {\n",
       "        vertical-align: middle;\n",
       "    }\n",
       "\n",
       "    .dataframe tbody tr th {\n",
       "        vertical-align: top;\n",
       "    }\n",
       "\n",
       "    .dataframe thead th {\n",
       "        text-align: right;\n",
       "    }\n",
       "</style>\n",
       "<table border=\"1\" class=\"dataframe\">\n",
       "  <thead>\n",
       "    <tr style=\"text-align: right;\">\n",
       "      <th></th>\n",
       "      <th>GradCAM</th>\n",
       "      <th>InputXGradients</th>\n",
       "      <th>DeepLIFT</th>\n",
       "      <th>LRP</th>\n",
       "      <th>Baseline Attention</th>\n",
       "      <th>Solver Attention</th>\n",
       "      <th>Marginal Attention</th>\n",
       "    </tr>\n",
       "  </thead>\n",
       "  <tbody>\n",
       "    <tr>\n",
       "      <th>IoU (q=0.1)</th>\n",
       "      <td>43.81</td>\n",
       "      <td>15.00</td>\n",
       "      <td>13.69</td>\n",
       "      <td>15.00</td>\n",
       "      <td>29.34</td>\n",
       "      <td>NaN</td>\n",
       "      <td>32.51</td>\n",
       "    </tr>\n",
       "    <tr>\n",
       "      <th>IoU (q=0.05)</th>\n",
       "      <td>53.57</td>\n",
       "      <td>22.34</td>\n",
       "      <td>19.57</td>\n",
       "      <td>22.34</td>\n",
       "      <td>31.18</td>\n",
       "      <td>NaN</td>\n",
       "      <td>36.11</td>\n",
       "    </tr>\n",
       "    <tr>\n",
       "      <th>IoU (q=0.025)</th>\n",
       "      <td>44.07</td>\n",
       "      <td>25.00</td>\n",
       "      <td>23.03</td>\n",
       "      <td>25.00</td>\n",
       "      <td>24.12</td>\n",
       "      <td>NaN</td>\n",
       "      <td>26.67</td>\n",
       "    </tr>\n",
       "    <tr>\n",
       "      <th>mAP</th>\n",
       "      <td>73.83</td>\n",
       "      <td>34.09</td>\n",
       "      <td>32.09</td>\n",
       "      <td>34.09</td>\n",
       "      <td>45.50</td>\n",
       "      <td>NaN</td>\n",
       "      <td>49.08</td>\n",
       "    </tr>\n",
       "  </tbody>\n",
       "</table>\n",
       "</div>"
      ],
      "text/plain": [
       "               GradCAM  InputXGradients  DeepLIFT   LRP  Baseline Attention  \\\n",
       "IoU (q=0.1)      43.81            15.00     13.69 15.00               29.34   \n",
       "IoU (q=0.05)     53.57            22.34     19.57 22.34               31.18   \n",
       "IoU (q=0.025)    44.07            25.00     23.03 25.00               24.12   \n",
       "mAP              73.83            34.09     32.09 34.09               45.50   \n",
       "\n",
       "              Solver Attention  Marginal Attention  \n",
       "IoU (q=0.1)                NaN               32.51  \n",
       "IoU (q=0.05)               NaN               36.11  \n",
       "IoU (q=0.025)              NaN               26.67  \n",
       "mAP                        NaN               49.08  "
      ]
     },
     "execution_count": 4,
     "metadata": {},
     "output_type": "execute_result"
    }
   ],
   "source": [
    "results_file = f\"/hdd0/projects/regex/evals/segmentation_results_level=1.pkl\"\n",
    "with open(results_file, 'rb') as f:\n",
    "    results_dict = pickle.load(f)\n",
    "results1 = pd.DataFrame(results_dict, index=methods)\n",
    "# results1.pop(\"Solver Attention\")\n",
    "results1*100"
   ]
  },
  {
   "cell_type": "code",
   "execution_count": 5,
   "id": "0e2b3671",
   "metadata": {
    "scrolled": true
   },
   "outputs": [
    {
     "data": {
      "text/html": [
       "<div>\n",
       "<style scoped>\n",
       "    .dataframe tbody tr th:only-of-type {\n",
       "        vertical-align: middle;\n",
       "    }\n",
       "\n",
       "    .dataframe tbody tr th {\n",
       "        vertical-align: top;\n",
       "    }\n",
       "\n",
       "    .dataframe thead th {\n",
       "        text-align: right;\n",
       "    }\n",
       "</style>\n",
       "<table border=\"1\" class=\"dataframe\">\n",
       "  <thead>\n",
       "    <tr style=\"text-align: right;\">\n",
       "      <th></th>\n",
       "      <th>GradCAM</th>\n",
       "      <th>InputXGradients</th>\n",
       "      <th>DeepLIFT</th>\n",
       "      <th>LRP</th>\n",
       "      <th>Baseline Attention</th>\n",
       "      <th>Solver Attention</th>\n",
       "      <th>Marginal Attention</th>\n",
       "    </tr>\n",
       "  </thead>\n",
       "  <tbody>\n",
       "    <tr>\n",
       "      <th>IoU (q=0.1)</th>\n",
       "      <td>40.52</td>\n",
       "      <td>15.10</td>\n",
       "      <td>16.67</td>\n",
       "      <td>15.10</td>\n",
       "      <td>38.83</td>\n",
       "      <td>NaN</td>\n",
       "      <td>38.30</td>\n",
       "    </tr>\n",
       "    <tr>\n",
       "      <th>IoU (q=0.05)</th>\n",
       "      <td>57.41</td>\n",
       "      <td>22.67</td>\n",
       "      <td>23.51</td>\n",
       "      <td>22.67</td>\n",
       "      <td>50.17</td>\n",
       "      <td>NaN</td>\n",
       "      <td>48.18</td>\n",
       "    </tr>\n",
       "    <tr>\n",
       "      <th>IoU (q=0.025)</th>\n",
       "      <td>51.14</td>\n",
       "      <td>25.66</td>\n",
       "      <td>26.29</td>\n",
       "      <td>25.66</td>\n",
       "      <td>40.78</td>\n",
       "      <td>NaN</td>\n",
       "      <td>38.74</td>\n",
       "    </tr>\n",
       "    <tr>\n",
       "      <th>mAP</th>\n",
       "      <td>85.20</td>\n",
       "      <td>35.33</td>\n",
       "      <td>37.56</td>\n",
       "      <td>35.33</td>\n",
       "      <td>71.34</td>\n",
       "      <td>NaN</td>\n",
       "      <td>68.03</td>\n",
       "    </tr>\n",
       "  </tbody>\n",
       "</table>\n",
       "</div>"
      ],
      "text/plain": [
       "               GradCAM  InputXGradients  DeepLIFT   LRP  Baseline Attention  \\\n",
       "IoU (q=0.1)      40.52            15.10     16.67 15.10               38.83   \n",
       "IoU (q=0.05)     57.41            22.67     23.51 22.67               50.17   \n",
       "IoU (q=0.025)    51.14            25.66     26.29 25.66               40.78   \n",
       "mAP              85.20            35.33     37.56 35.33               71.34   \n",
       "\n",
       "              Solver Attention  Marginal Attention  \n",
       "IoU (q=0.1)                NaN               38.30  \n",
       "IoU (q=0.05)               NaN               48.18  \n",
       "IoU (q=0.025)              NaN               38.74  \n",
       "mAP                        NaN               68.03  "
      ]
     },
     "execution_count": 5,
     "metadata": {},
     "output_type": "execute_result"
    }
   ],
   "source": [
    "results_file = f\"/hdd0/projects/regex/evals/segmentation_results_level=2.pkl\"\n",
    "with open(results_file, 'rb') as f:\n",
    "    results_dict = pickle.load(f)\n",
    "results2 = pd.DataFrame(results_dict, index=methods) * 100\n",
    "results2\n",
    "# results2.pop(\"Solver Attention\")"
   ]
  },
  {
   "cell_type": "code",
   "execution_count": 6,
   "id": "c1f498e3",
   "metadata": {
    "scrolled": true
   },
   "outputs": [
    {
     "data": {
      "text/html": [
       "<div>\n",
       "<style scoped>\n",
       "    .dataframe tbody tr th:only-of-type {\n",
       "        vertical-align: middle;\n",
       "    }\n",
       "\n",
       "    .dataframe tbody tr th {\n",
       "        vertical-align: top;\n",
       "    }\n",
       "\n",
       "    .dataframe thead th {\n",
       "        text-align: right;\n",
       "    }\n",
       "</style>\n",
       "<table border=\"1\" class=\"dataframe\">\n",
       "  <thead>\n",
       "    <tr style=\"text-align: right;\">\n",
       "      <th></th>\n",
       "      <th>GradCAM</th>\n",
       "      <th>InputXGradients</th>\n",
       "      <th>DeepLIFT</th>\n",
       "      <th>LRP</th>\n",
       "      <th>Baseline Attention</th>\n",
       "      <th>Solver Attention</th>\n",
       "      <th>Marginal Attention</th>\n",
       "    </tr>\n",
       "  </thead>\n",
       "  <tbody>\n",
       "    <tr>\n",
       "      <th>IoU (q=0.1)</th>\n",
       "      <td>35.95</td>\n",
       "      <td>15.13</td>\n",
       "      <td>18.22</td>\n",
       "      <td>15.13</td>\n",
       "      <td>17.11</td>\n",
       "      <td>32.59</td>\n",
       "      <td>41.41</td>\n",
       "    </tr>\n",
       "    <tr>\n",
       "      <th>IoU (q=0.05)</th>\n",
       "      <td>49.07</td>\n",
       "      <td>22.88</td>\n",
       "      <td>26.22</td>\n",
       "      <td>22.88</td>\n",
       "      <td>16.76</td>\n",
       "      <td>40.53</td>\n",
       "      <td>52.46</td>\n",
       "    </tr>\n",
       "    <tr>\n",
       "      <th>IoU (q=0.025)</th>\n",
       "      <td>46.58</td>\n",
       "      <td>26.72</td>\n",
       "      <td>29.33</td>\n",
       "      <td>26.72</td>\n",
       "      <td>13.63</td>\n",
       "      <td>34.12</td>\n",
       "      <td>46.07</td>\n",
       "    </tr>\n",
       "    <tr>\n",
       "      <th>mAP</th>\n",
       "      <td>74.60</td>\n",
       "      <td>37.18</td>\n",
       "      <td>42.50</td>\n",
       "      <td>37.18</td>\n",
       "      <td>16.61</td>\n",
       "      <td>58.93</td>\n",
       "      <td>78.31</td>\n",
       "    </tr>\n",
       "  </tbody>\n",
       "</table>\n",
       "</div>"
      ],
      "text/plain": [
       "               GradCAM  InputXGradients  DeepLIFT   LRP  Baseline Attention  \\\n",
       "IoU (q=0.1)      35.95            15.13     18.22 15.13               17.11   \n",
       "IoU (q=0.05)     49.07            22.88     26.22 22.88               16.76   \n",
       "IoU (q=0.025)    46.58            26.72     29.33 26.72               13.63   \n",
       "mAP              74.60            37.18     42.50 37.18               16.61   \n",
       "\n",
       "               Solver Attention  Marginal Attention  \n",
       "IoU (q=0.1)               32.59               41.41  \n",
       "IoU (q=0.05)              40.53               52.46  \n",
       "IoU (q=0.025)             34.12               46.07  \n",
       "mAP                       58.93               78.31  "
      ]
     },
     "execution_count": 6,
     "metadata": {},
     "output_type": "execute_result"
    }
   ],
   "source": [
    "results_file = f\"/hdd0/projects/regex/evals/segmentation_results_level=3.pkl\"\n",
    "with open(results_file, 'rb') as f:\n",
    "    results_dict = pickle.load(f)\n",
    "results3 = pd.DataFrame(results_dict, index=methods) * 100\n",
    "results3"
   ]
  },
  {
   "cell_type": "code",
   "execution_count": 7,
   "id": "08f7158b",
   "metadata": {},
   "outputs": [
    {
     "data": {
      "text/html": [
       "<div>\n",
       "<style scoped>\n",
       "    .dataframe tbody tr th:only-of-type {\n",
       "        vertical-align: middle;\n",
       "    }\n",
       "\n",
       "    .dataframe tbody tr th {\n",
       "        vertical-align: top;\n",
       "    }\n",
       "\n",
       "    .dataframe thead th {\n",
       "        text-align: right;\n",
       "    }\n",
       "</style>\n",
       "<table border=\"1\" class=\"dataframe\">\n",
       "  <thead>\n",
       "    <tr style=\"text-align: right;\">\n",
       "      <th></th>\n",
       "      <th>GradCAM</th>\n",
       "      <th>InputXGradients</th>\n",
       "      <th>DeepLIFT</th>\n",
       "      <th>LRP</th>\n",
       "      <th>Baseline Attention</th>\n",
       "      <th>Solver Attention</th>\n",
       "      <th>Marginal Attention</th>\n",
       "    </tr>\n",
       "  </thead>\n",
       "  <tbody>\n",
       "    <tr>\n",
       "      <th>IoU (q=0.1)</th>\n",
       "      <td>11.33</td>\n",
       "      <td>15.55</td>\n",
       "      <td>20.39</td>\n",
       "      <td>15.55</td>\n",
       "      <td>36.24</td>\n",
       "      <td>NaN</td>\n",
       "      <td>36.56</td>\n",
       "    </tr>\n",
       "    <tr>\n",
       "      <th>IoU (q=0.05)</th>\n",
       "      <td>18.23</td>\n",
       "      <td>23.61</td>\n",
       "      <td>29.98</td>\n",
       "      <td>23.61</td>\n",
       "      <td>42.81</td>\n",
       "      <td>NaN</td>\n",
       "      <td>48.65</td>\n",
       "    </tr>\n",
       "    <tr>\n",
       "      <th>IoU (q=0.025)</th>\n",
       "      <td>25.95</td>\n",
       "      <td>28.12</td>\n",
       "      <td>32.95</td>\n",
       "      <td>28.12</td>\n",
       "      <td>36.09</td>\n",
       "      <td>NaN</td>\n",
       "      <td>43.15</td>\n",
       "    </tr>\n",
       "    <tr>\n",
       "      <th>mAP</th>\n",
       "      <td>31.76</td>\n",
       "      <td>39.21</td>\n",
       "      <td>47.95</td>\n",
       "      <td>39.21</td>\n",
       "      <td>66.03</td>\n",
       "      <td>NaN</td>\n",
       "      <td>74.85</td>\n",
       "    </tr>\n",
       "  </tbody>\n",
       "</table>\n",
       "</div>"
      ],
      "text/plain": [
       "               GradCAM  InputXGradients  DeepLIFT   LRP  Baseline Attention  \\\n",
       "IoU (q=0.1)      11.33            15.55     20.39 15.55               36.24   \n",
       "IoU (q=0.05)     18.23            23.61     29.98 23.61               42.81   \n",
       "IoU (q=0.025)    25.95            28.12     32.95 28.12               36.09   \n",
       "mAP              31.76            39.21     47.95 39.21               66.03   \n",
       "\n",
       "              Solver Attention  Marginal Attention  \n",
       "IoU (q=0.1)                NaN               36.56  \n",
       "IoU (q=0.05)               NaN               48.65  \n",
       "IoU (q=0.025)              NaN               43.15  \n",
       "mAP                        NaN               74.85  "
      ]
     },
     "execution_count": 7,
     "metadata": {},
     "output_type": "execute_result"
    }
   ],
   "source": [
    "results_file = f\"/hdd0/projects/regex/evals/segmentation_results_level=4.pkl\"\n",
    "with open(results_file, 'rb') as f:\n",
    "    results_dict = pickle.load(f)\n",
    "results4 = pd.DataFrame(results_dict, index=methods) * 100\n",
    "results4\n",
    "# results2.pop(\"Solver Attention\")"
   ]
  },
  {
   "cell_type": "markdown",
   "id": "79431964",
   "metadata": {},
   "source": [
    "## Level 3 segmentation"
   ]
  },
  {
   "cell_type": "code",
   "execution_count": 8,
   "id": "78929e25",
   "metadata": {},
   "outputs": [
    {
     "data": {
      "text/html": [
       "<div>\n",
       "<style scoped>\n",
       "    .dataframe tbody tr th:only-of-type {\n",
       "        vertical-align: middle;\n",
       "    }\n",
       "\n",
       "    .dataframe tbody tr th {\n",
       "        vertical-align: top;\n",
       "    }\n",
       "\n",
       "    .dataframe thead th {\n",
       "        text-align: right;\n",
       "    }\n",
       "</style>\n",
       "<table border=\"1\" class=\"dataframe\">\n",
       "  <thead>\n",
       "    <tr style=\"text-align: right;\">\n",
       "      <th></th>\n",
       "      <th>IoU (q=0.1)</th>\n",
       "      <th>IoU (q=0.05)</th>\n",
       "      <th>IoU (q=0.025)</th>\n",
       "      <th>mAP</th>\n",
       "    </tr>\n",
       "  </thead>\n",
       "  <tbody>\n",
       "    <tr>\n",
       "      <th>GradCAM</th>\n",
       "      <td>35.95</td>\n",
       "      <td>49.07</td>\n",
       "      <td>46.58</td>\n",
       "      <td>74.60</td>\n",
       "    </tr>\n",
       "    <tr>\n",
       "      <th>InputXGradients</th>\n",
       "      <td>15.13</td>\n",
       "      <td>22.88</td>\n",
       "      <td>26.72</td>\n",
       "      <td>37.18</td>\n",
       "    </tr>\n",
       "    <tr>\n",
       "      <th>DeepLIFT</th>\n",
       "      <td>18.22</td>\n",
       "      <td>26.22</td>\n",
       "      <td>29.33</td>\n",
       "      <td>42.50</td>\n",
       "    </tr>\n",
       "    <tr>\n",
       "      <th>LRP</th>\n",
       "      <td>15.13</td>\n",
       "      <td>22.88</td>\n",
       "      <td>26.72</td>\n",
       "      <td>37.18</td>\n",
       "    </tr>\n",
       "    <tr>\n",
       "      <th>Baseline Attention</th>\n",
       "      <td>17.11</td>\n",
       "      <td>16.76</td>\n",
       "      <td>13.63</td>\n",
       "      <td>16.61</td>\n",
       "    </tr>\n",
       "    <tr>\n",
       "      <th>Solver Attention</th>\n",
       "      <td>32.59</td>\n",
       "      <td>40.53</td>\n",
       "      <td>34.12</td>\n",
       "      <td>58.93</td>\n",
       "    </tr>\n",
       "    <tr>\n",
       "      <th>Marginal Attention</th>\n",
       "      <td>41.41</td>\n",
       "      <td>52.46</td>\n",
       "      <td>46.07</td>\n",
       "      <td>78.31</td>\n",
       "    </tr>\n",
       "  </tbody>\n",
       "</table>\n",
       "</div>"
      ],
      "text/plain": [
       "                    IoU (q=0.1)  IoU (q=0.05)  IoU (q=0.025)   mAP\n",
       "GradCAM                   35.95         49.07          46.58 74.60\n",
       "InputXGradients           15.13         22.88          26.72 37.18\n",
       "DeepLIFT                  18.22         26.22          29.33 42.50\n",
       "LRP                       15.13         22.88          26.72 37.18\n",
       "Baseline Attention        17.11         16.76          13.63 16.61\n",
       "Solver Attention          32.59         40.53          34.12 58.93\n",
       "Marginal Attention        41.41         52.46          46.07 78.31"
      ]
     },
     "execution_count": 8,
     "metadata": {},
     "output_type": "execute_result"
    }
   ],
   "source": [
    "results3.transpose()"
   ]
  },
  {
   "cell_type": "code",
   "execution_count": 9,
   "id": "5fb0fa29",
   "metadata": {},
   "outputs": [
    {
     "name": "stdout",
     "output_type": "stream",
     "text": [
      "\\begin{tabular}{lrrrrrrr}\n",
      "\\toprule\n",
      "{} &  GradCAM &  InputXGradients &  DeepLIFT &   LRP &  Baseline Attention &  Solver Attention &  Marginal Attention \\\\\n",
      "\\midrule\n",
      "IoU (q=0.1)   &    35.95 &            15.13 &     18.22 & 15.13 &               17.11 &             32.59 &               41.41 \\\\\n",
      "IoU (q=0.05)  &    49.07 &            22.88 &     26.22 & 22.88 &               16.76 &             40.53 &               52.46 \\\\\n",
      "IoU (q=0.025) &    46.58 &            26.72 &     29.33 & 26.72 &               13.63 &             34.12 &               46.07 \\\\\n",
      "mAP           &    74.60 &            37.18 &     42.50 & 37.18 &               16.61 &             58.93 &               78.31 \\\\\n",
      "\\bottomrule\n",
      "\\end{tabular}\n",
      "\n"
     ]
    }
   ],
   "source": [
    "print(results3.to_latex())"
   ]
  },
  {
   "cell_type": "code",
   "execution_count": 10,
   "id": "b32a00bf",
   "metadata": {},
   "outputs": [],
   "source": [
    "results_file = f\"/hdd0/projects/regex/evals/segmentation_results_level=4.pkl\"\n",
    "with open(results_file, 'rb') as f:\n",
    "    results_dict = pickle.load(f)\n",
    "results4 = pd.DataFrame(results_dict, index=methods) * 100"
   ]
  },
  {
   "cell_type": "markdown",
   "id": "79868558",
   "metadata": {},
   "source": [
    "## Level 4 segmentation"
   ]
  },
  {
   "cell_type": "code",
   "execution_count": 11,
   "id": "f6aac6f2",
   "metadata": {},
   "outputs": [
    {
     "data": {
      "text/html": [
       "<div>\n",
       "<style scoped>\n",
       "    .dataframe tbody tr th:only-of-type {\n",
       "        vertical-align: middle;\n",
       "    }\n",
       "\n",
       "    .dataframe tbody tr th {\n",
       "        vertical-align: top;\n",
       "    }\n",
       "\n",
       "    .dataframe thead th {\n",
       "        text-align: right;\n",
       "    }\n",
       "</style>\n",
       "<table border=\"1\" class=\"dataframe\">\n",
       "  <thead>\n",
       "    <tr style=\"text-align: right;\">\n",
       "      <th></th>\n",
       "      <th>GradCAM</th>\n",
       "      <th>InputXGradients</th>\n",
       "      <th>DeepLIFT</th>\n",
       "      <th>LRP</th>\n",
       "      <th>Baseline Attention</th>\n",
       "      <th>Solver Attention</th>\n",
       "      <th>Marginal Attention</th>\n",
       "    </tr>\n",
       "  </thead>\n",
       "  <tbody>\n",
       "    <tr>\n",
       "      <th>IoU (q=0.1)</th>\n",
       "      <td>11.33</td>\n",
       "      <td>15.55</td>\n",
       "      <td>20.39</td>\n",
       "      <td>15.55</td>\n",
       "      <td>36.24</td>\n",
       "      <td>NaN</td>\n",
       "      <td>36.56</td>\n",
       "    </tr>\n",
       "    <tr>\n",
       "      <th>IoU (q=0.05)</th>\n",
       "      <td>18.23</td>\n",
       "      <td>23.61</td>\n",
       "      <td>29.98</td>\n",
       "      <td>23.61</td>\n",
       "      <td>42.81</td>\n",
       "      <td>NaN</td>\n",
       "      <td>48.65</td>\n",
       "    </tr>\n",
       "    <tr>\n",
       "      <th>IoU (q=0.025)</th>\n",
       "      <td>25.95</td>\n",
       "      <td>28.12</td>\n",
       "      <td>32.95</td>\n",
       "      <td>28.12</td>\n",
       "      <td>36.09</td>\n",
       "      <td>NaN</td>\n",
       "      <td>43.15</td>\n",
       "    </tr>\n",
       "    <tr>\n",
       "      <th>mAP</th>\n",
       "      <td>31.76</td>\n",
       "      <td>39.21</td>\n",
       "      <td>47.95</td>\n",
       "      <td>39.21</td>\n",
       "      <td>66.03</td>\n",
       "      <td>NaN</td>\n",
       "      <td>74.85</td>\n",
       "    </tr>\n",
       "  </tbody>\n",
       "</table>\n",
       "</div>"
      ],
      "text/plain": [
       "               GradCAM  InputXGradients  DeepLIFT   LRP  Baseline Attention  \\\n",
       "IoU (q=0.1)      11.33            15.55     20.39 15.55               36.24   \n",
       "IoU (q=0.05)     18.23            23.61     29.98 23.61               42.81   \n",
       "IoU (q=0.025)    25.95            28.12     32.95 28.12               36.09   \n",
       "mAP              31.76            39.21     47.95 39.21               66.03   \n",
       "\n",
       "              Solver Attention  Marginal Attention  \n",
       "IoU (q=0.1)                NaN               36.56  \n",
       "IoU (q=0.05)               NaN               48.65  \n",
       "IoU (q=0.025)              NaN               43.15  \n",
       "mAP                        NaN               74.85  "
      ]
     },
     "execution_count": 11,
     "metadata": {},
     "output_type": "execute_result"
    }
   ],
   "source": [
    "results4"
   ]
  },
  {
   "cell_type": "code",
   "execution_count": 12,
   "id": "f3b27ff7",
   "metadata": {},
   "outputs": [
    {
     "name": "stdout",
     "output_type": "stream",
     "text": [
      "\\begin{tabular}{lrrrrrlr}\n",
      "\\toprule\n",
      "{} &  GradCAM &  InputXGradients &  DeepLIFT &   LRP &  Baseline Attention & Solver Attention &  Marginal Attention \\\\\n",
      "\\midrule\n",
      "IoU (q=0.1)   &    11.33 &            15.55 &     20.39 & 15.55 &               36.24 &              NaN &               36.56 \\\\\n",
      "IoU (q=0.05)  &    18.23 &            23.61 &     29.98 & 23.61 &               42.81 &              NaN &               48.65 \\\\\n",
      "IoU (q=0.025) &    25.95 &            28.12 &     32.95 & 28.12 &               36.09 &              NaN &               43.15 \\\\\n",
      "mAP           &    31.76 &            39.21 &     47.95 & 39.21 &               66.03 &              NaN &               74.85 \\\\\n",
      "\\bottomrule\n",
      "\\end{tabular}\n",
      "\n"
     ]
    }
   ],
   "source": [
    "print(results4.to_latex())"
   ]
  },
  {
   "cell_type": "code",
   "execution_count": 13,
   "id": "6ac7d8d3",
   "metadata": {},
   "outputs": [
    {
     "data": {
      "text/plain": [
       "MultiIndex([(11.330933988097739, 15.552943601779177, 20.392698359956807, ...),\n",
       "            (18.234379417574516,  23.61326760887862, 29.980217578497857, ...),\n",
       "            ( 25.95239315148619, 28.116972887996607,  32.94651971367122, ...),\n",
       "            (31.755127198636895,  39.20930917639272,   47.9463297775212, ...)],\n",
       "           names=['GradCAM', 'InputXGradients', 'DeepLIFT', 'LRP', 'Baseline Attention', 'Solver Attention', 'Marginal Attention'])"
      ]
     },
     "execution_count": 13,
     "metadata": {},
     "output_type": "execute_result"
    }
   ],
   "source": [
    "pd.MultiIndex.from_frame(results4)"
   ]
  },
  {
   "cell_type": "markdown",
   "id": "83bdcdba",
   "metadata": {},
   "source": [
    "# Images with heatmaps"
   ]
  },
  {
   "cell_type": "code",
   "execution_count": 284,
   "id": "2247b1d0",
   "metadata": {},
   "outputs": [],
   "source": [
    "from torch.utils.data import DataLoader\n",
    "from torchvision.transforms import Compose, Resize\n",
    "from torchvision.transforms import InterpolationMode\n",
    "from kornia.augmentation import Normalize\n",
    "from dataio.dataloader import probe_data_folder, BraTS18Binary\n",
    "    \n",
    "# Load attribution data\n",
    "level = 3\n",
    "method_names = [\n",
    "    (\"GradCAM\", f'gc_attrs_level=3.pkl', f'gc_attrs_level=4.pkl'),\n",
    "#     (\"Gradient*Input\", f'inxgrad_attrs_level=3.pkl', f'inxgrad_attrs_level=4.pkl'), \n",
    "    (\"DeepLIFT\", f'dl_attrs_level=3.pkl', f'dl_attrs_level=4.pkl'), \n",
    "#     (\"LRP\", f'lrp_attrs_level=3.pkl', f'lrp_attrs_level=4.pkl'), \n",
    "    (\"Baseline\", f'baseline_attrs_level=3.pkl', f'baseline_attrs_level=4.pkl'), \n",
    "#     (\"Solver\", f'solver_attrs_level=3.pkl', f'solver_attrs_level=4.pkl'),\n",
    "    (\"Marginal\", f'marginal_attrs_level=3.pkl', f'marginal_attrs_level=4.pkl')\n",
    "]\n",
    "\n",
    "methods = []\n",
    "for name, filename3, filename4 in method_names:\n",
    "    with open(f\"../evals/{filename3}\", 'rb') as f:\n",
    "        file3 = pickle.load(f)\n",
    "    with open(f\"../evals/{filename4}\", 'rb') as f:\n",
    "        file4 = pickle.load(f)\n",
    "    methods.append((name, file3, file4))\n",
    "# results.pop(\"Solver Attention\")"
   ]
  },
  {
   "cell_type": "code",
   "execution_count": 296,
   "id": "41a3a641",
   "metadata": {},
   "outputs": [],
   "source": [
    "samples = np.random.randint(0, high=len(images_and_masks), size=1)\n",
    "# samples = [1899, 1297, 2062, 1955, 870, 161, 502, 763, 1367, 2088]"
   ]
  },
  {
   "cell_type": "code",
   "execution_count": 297,
   "id": "c92c56a3",
   "metadata": {
    "scrolled": false
   },
   "outputs": [
    {
     "name": "stderr",
     "output_type": "stream",
     "text": [
      "<ipython-input-297-da586e310be5>:39: UserWarning: No contour levels were found within the data range.\n",
      "  mri_ax.contour(np.arange(mask.shape[0]), np.arange(mask.shape[1]), mask, 0, linewidths=2, colors=[\"red\"])\n"
     ]
    },
    {
     "data": {
      "image/png": "[encoded data removed]",
      "text/plain": [
       "<Figure size 1080x432 with 11 Axes>"
      ]
     },
     "metadata": {
      "needs_background": "light"
     },
     "output_type": "display_data"
    }
   ],
   "source": [
    "fig = plt.figure(figsize=(3*(len(methods)+1), 2*3*len(samples)))\n",
    "gs = gridspec.GridSpec(nrows=2*len(samples), \n",
    "                       ncols=len(methods)+1+1, \n",
    "                       left=0.05, \n",
    "                       bottom=0.05, \n",
    "                       right=0.95, \n",
    "                       top=0.95, \n",
    "                       wspace=0.0, \n",
    "                       hspace=0.01,\n",
    "                       width_ratios=[1,0.15,1,1,1,1])\n",
    "\n",
    "# Set mri image col\n",
    "mri_col = []\n",
    "i = 0\n",
    "for _ in range(len(samples)):\n",
    "    ax = plt.subplot(gs[i:i+2, 0])\n",
    "    mri_col.append(ax)\n",
    "    i += 2\n",
    "\n",
    "# Set blank image col\n",
    "blank_col = []\n",
    "for i in range(2*len(samples)):\n",
    "    ax = plt.subplot(gs[i, 1])\n",
    "    blank_col.append(ax)\n",
    "    \n",
    "# Set attributions matrix\n",
    "matrix = []\n",
    "for i in range(2*len(samples)):\n",
    "    row = []\n",
    "    for j in range(len(methods)):\n",
    "        ax = plt.subplot(gs[i, j+2])\n",
    "        row.append(ax)\n",
    "    matrix.append(row)\n",
    "\n",
    "# Plot mri images\n",
    "for mri_ax, sample_idx in zip(mri_col, samples):\n",
    "    image, label, mask = images_and_masks[sample_idx]\n",
    "    mri_ax.imshow(image[mri_modality], cmap=\"gray\")\n",
    "    mri_ax.contour(np.arange(mask.shape[0]), np.arange(mask.shape[1]), mask, 0, linewidths=2, colors=[\"red\"])\n",
    "\n",
    "# Plot attribution\n",
    "running_idx = 0\n",
    "for i in range(0, 2*len(samples), 2):\n",
    "    idx = samples[running_idx]\n",
    "    image, label, mask = images_and_masks[idx]\n",
    "    for j in range(len(methods)):\n",
    "        attr3 = methods[j][1][idx][0]\n",
    "        attr3 = cv2.resize(attr3.numpy(), (256, 256), interpolation=cv2.INTER_LINEAR)\n",
    "        attr4 = methods[j][2][idx][0]\n",
    "        attr4 = cv2.resize(attr4.numpy(), (256, 256), interpolation=cv2.INTER_LINEAR)\n",
    "        matrix[i][j].imshow(image[mri_modality], cmap=\"gray\")\n",
    "        matrix[i][j].imshow(attr3, cmap=\"jet\", alpha=0.4)\n",
    "        matrix[i+1][j].imshow(image[mri_modality], cmap=\"gray\")\n",
    "        matrix[i+1][j].imshow(attr4, cmap=\"jet\", alpha=0.4)\n",
    "    running_idx += 1\n",
    "\n",
    "# Set titles\n",
    "mri_col[0].set_title(f\"Input (T2-weighted)\")\n",
    "for j, ax in enumerate(matrix[0]):\n",
    "    ax.set_title(methods[j][0])\n",
    "    \n",
    "for i, row in enumerate(matrix):\n",
    "    if i % 2 == 0:\n",
    "        row[0].set_ylabel(\"Level 3\", labelpad=0.0)\n",
    "    else:\n",
    "        row[0].set_ylabel(\"Level 4\", labelpad=0.0)\n",
    "        \n",
    "for ax in mri_col:\n",
    "    ax.set_xticklabels([])\n",
    "    ax.set_yticklabels([])\n",
    "    ax.tick_params(axis='both', which='both', length=0)\n",
    "    \n",
    "for ax in blank_col:\n",
    "    ax.axis(\"off\")\n",
    "    \n",
    "for row in matrix:\n",
    "    for ax in row:\n",
    "        ax.set_xticklabels([])\n",
    "        ax.set_yticklabels([])\n",
    "        ax.tick_params(axis='both', which='both', length=0)"
   ]
  },
  {
   "cell_type": "code",
   "execution_count": null,
   "id": "d0ed920c",
   "metadata": {},
   "outputs": [],
   "source": []
  },
  {
   "cell_type": "code",
   "execution_count": null,
   "id": "04d7722f",
   "metadata": {},
   "outputs": [],
   "source": []
  },
  {
   "cell_type": "code",
   "execution_count": null,
   "id": "73cbf19a",
   "metadata": {},
   "outputs": [],
   "source": []
  },
  {
   "cell_type": "code",
   "execution_count": null,
   "id": "f0b564b1",
   "metadata": {},
   "outputs": [],
   "source": []
  },
  {
   "cell_type": "code",
   "execution_count": null,
   "id": "7e518932",
   "metadata": {},
   "outputs": [],
   "source": []
  },
  {
   "cell_type": "code",
   "execution_count": null,
   "id": "e4760db7",
   "metadata": {},
   "outputs": [],
   "source": []
  },
  {
   "cell_type": "code",
   "execution_count": null,
   "id": "f0917cf5",
   "metadata": {},
   "outputs": [],
   "source": []
  },
  {
   "cell_type": "code",
   "execution_count": null,
   "id": "863b1a93",
   "metadata": {},
   "outputs": [],
   "source": []
  },
  {
   "cell_type": "code",
   "execution_count": null,
   "id": "abbf8bc9",
   "metadata": {},
   "outputs": [],
   "source": []
  },
  {
   "cell_type": "code",
   "execution_count": null,
   "id": "f8239330",
   "metadata": {},
   "outputs": [],
   "source": []
  },
  {
   "cell_type": "code",
   "execution_count": null,
   "id": "d9f405b9",
   "metadata": {},
   "outputs": [],
   "source": []
  },
  {
   "cell_type": "code",
   "execution_count": null,
   "id": "1236d162",
   "metadata": {},
   "outputs": [],
   "source": []
  },
  {
   "cell_type": "code",
   "execution_count": null,
   "id": "7aedc8ce",
   "metadata": {},
   "outputs": [],
   "source": []
  },
  {
   "cell_type": "code",
   "execution_count": null,
   "id": "5e7bbd56",
   "metadata": {},
   "outputs": [],
   "source": []
  },
  {
   "cell_type": "code",
   "execution_count": null,
   "id": "7f1aec5a",
   "metadata": {},
   "outputs": [],
   "source": []
  },
  {
   "cell_type": "code",
   "execution_count": null,
   "id": "66de08c2",
   "metadata": {},
   "outputs": [],
   "source": []
  }
 ],
 "metadata": {
  "kernelspec": {
   "display_name": "Python 3",
   "language": "python",
   "name": "python3"
  },
  "language_info": {
   "codemirror_mode": {
    "name": "ipython",
    "version": 3
   },
   "file_extension": ".py",
   "mimetype": "text/x-python",
   "name": "python",
   "nbconvert_exporter": "python",
   "pygments_lexer": "ipython3",
   "version": "3.8.8"
  }
 },
 "nbformat": 4,
 "nbformat_minor": 5
}
